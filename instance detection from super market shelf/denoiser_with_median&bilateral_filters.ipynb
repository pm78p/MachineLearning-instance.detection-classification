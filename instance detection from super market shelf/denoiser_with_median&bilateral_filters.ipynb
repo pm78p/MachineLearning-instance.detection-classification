{
  "nbformat": 4,
  "nbformat_minor": 0,
  "metadata": {
    "colab": {
      "provenance": []
    },
    "kernelspec": {
      "name": "python3",
      "display_name": "Python 3"
    },
    "language_info": {
      "name": "python"
    }
  },
  "cells": [
    {
      "cell_type": "code",
      "source": [
        "import cv2\n",
        "import numpy as np\n",
        "\n",
        "img_path_to_denoised = '/content/scene12.png'\n",
        "\n",
        "# Read the noisy image\n",
        "image = cv2.imread(img_path_to_denoised)\n",
        "\n",
        "mfk = [3,5,7]\n",
        "dl = [5,9,15]\n",
        "sc = [25,50,100]\n",
        "ss = [25,50,100]\n",
        "\n",
        "count = 0\n",
        "for k in mfk:\n",
        "  for d in dl:\n",
        "    for c in sc:\n",
        "      for s in ss:\n",
        "\n",
        "        # Apply median filter to remove salt-and-pepper noise\n",
        "        median_filtered = cv2.medianBlur(image, k)  # Use a kernel size of 5\n",
        "\n",
        "        # Apply bilateral filter to smooth Gaussian noise while preserving edges\n",
        "        bilateral_filtered = cv2.bilateralFilter(median_filtered, d=d, sigmaColor=c, sigmaSpace=s)\n",
        "\n",
        "        # Save or display the result\n",
        "        cv2.imwrite('/content/newdata/d{}-{}-{}-{}.jpg'.format(k,d,c,s), bilateral_filtered)\n",
        "        count+=1\n"
      ],
      "metadata": {
        "id": "4NH2da7ZaMWX"
      },
      "execution_count": null,
      "outputs": []
    },
    {
      "cell_type": "code",
      "source": [
        "import cv2\n",
        "import numpy as np\n",
        "\n",
        "# Read the noisy image\n",
        "image_path = '/content/scene9.png'\n",
        "\n",
        "image = cv2.imread(image_path)\n",
        "\n",
        "if image is None:\n",
        "    raise FileNotFoundError(f\"Image not found or unable to read the image at path: {image_path}\")\n",
        "\n",
        "\n",
        "#mfk = [3,5,7]\n",
        "#dl = [5,9,15]\n",
        "#sc = [25,50,100]\n",
        "#ss = [25,50,100]\n",
        "\n",
        "mfk = [3,5]#7]\n",
        "dl = [5,9,15]\n",
        "sc = [25,50,100]\n",
        "ss = [25,50,100]\n",
        "\n",
        "\n",
        "count = 0\n",
        "for k in mfk:\n",
        "  for d in dl:\n",
        "    for c in sc:\n",
        "      for s in ss:\n",
        "\n",
        "        # Apply median filter to remove salt-and-pepper noise\n",
        "        median_filtered = cv2.medianBlur(image, k)  # Use a kernel size of 5\n",
        "\n",
        "        # Apply bilateral filter to smooth Gaussian noise while preserving edges\n",
        "        bilateral_filtered = cv2.bilateralFilter(median_filtered, d=d, sigmaColor=c, sigmaSpace=s)\n",
        "\n",
        "        # Save or display the result\n",
        "        cv2.imwrite('/content/new_folder/d{}-{}-{}-{}.jpg'.format(k,d,c,s), bilateral_filtered)\n",
        "        count+=1\n"
      ],
      "metadata": {
        "id": "rKtH4MtEPzpd"
      },
      "execution_count": null,
      "outputs": []
    },
    {
      "cell_type": "code",
      "source": [
        "# to zip and download it\n",
        "import os\n",
        "import shutil\n",
        "from google.colab import files\n",
        "\n",
        "# Define the directory path\n",
        "folder_path = '/content/new_folder'\n",
        "\n",
        "# Create a new folder (if not already created)\n",
        "os.makedirs(folder_path, exist_ok=True)\n",
        "\n",
        "# Add files to the folder (example)\n",
        "with open(os.path.join(folder_path, 'example.txt'), 'w') as f:\n",
        "    f.write('This is an example file.')\n",
        "\n",
        "# Compress the folder into a zip file\n",
        "shutil.make_archive(folder_path, 'zip', folder_path)\n",
        "\n",
        "# Download the zip file\n",
        "#files.download(f'{folder_path}.zip')\n"
      ],
      "metadata": {
        "colab": {
          "base_uri": "https://localhost:8080/",
          "height": 36
        },
        "id": "gp4GXzLnaMUd",
        "outputId": "3e6af62f-1d08-4725-c494-779f49835ca1"
      },
      "execution_count": null,
      "outputs": [
        {
          "output_type": "execute_result",
          "data": {
            "text/plain": [
              "'/content/new_folder.zip'"
            ],
            "application/vnd.google.colaboratory.intrinsic+json": {
              "type": "string"
            }
          },
          "metadata": {},
          "execution_count": 15
        }
      ]
    },
    {
      "cell_type": "code",
      "source": [
        "files.download(f'{folder_path}.zip')"
      ],
      "metadata": {
        "colab": {
          "base_uri": "https://localhost:8080/",
          "height": 17
        },
        "id": "ISN-5_7xVbZp",
        "outputId": "70d5a5f8-faf9-4d51-d985-8625d6c3b6d8"
      },
      "execution_count": null,
      "outputs": [
        {
          "output_type": "display_data",
          "data": {
            "text/plain": [
              "<IPython.core.display.Javascript object>"
            ],
            "application/javascript": [
              "\n",
              "    async function download(id, filename, size) {\n",
              "      if (!google.colab.kernel.accessAllowed) {\n",
              "        return;\n",
              "      }\n",
              "      const div = document.createElement('div');\n",
              "      const label = document.createElement('label');\n",
              "      label.textContent = `Downloading \"${filename}\": `;\n",
              "      div.appendChild(label);\n",
              "      const progress = document.createElement('progress');\n",
              "      progress.max = size;\n",
              "      div.appendChild(progress);\n",
              "      document.body.appendChild(div);\n",
              "\n",
              "      const buffers = [];\n",
              "      let downloaded = 0;\n",
              "\n",
              "      const channel = await google.colab.kernel.comms.open(id);\n",
              "      // Send a message to notify the kernel that we're ready.\n",
              "      channel.send({})\n",
              "\n",
              "      for await (const message of channel.messages) {\n",
              "        // Send a message to notify the kernel that we're ready.\n",
              "        channel.send({})\n",
              "        if (message.buffers) {\n",
              "          for (const buffer of message.buffers) {\n",
              "            buffers.push(buffer);\n",
              "            downloaded += buffer.byteLength;\n",
              "            progress.value = downloaded;\n",
              "          }\n",
              "        }\n",
              "      }\n",
              "      const blob = new Blob(buffers, {type: 'application/binary'});\n",
              "      const a = document.createElement('a');\n",
              "      a.href = window.URL.createObjectURL(blob);\n",
              "      a.download = filename;\n",
              "      div.appendChild(a);\n",
              "      a.click();\n",
              "      div.remove();\n",
              "    }\n",
              "  "
            ]
          },
          "metadata": {}
        },
        {
          "output_type": "display_data",
          "data": {
            "text/plain": [
              "<IPython.core.display.Javascript object>"
            ],
            "application/javascript": [
              "download(\"download_b4926e46-3e31-4142-a930-a24dd9924b25\", \"new_folder.zip\", 32750205)"
            ]
          },
          "metadata": {}
        }
      ]
    },
    {
      "cell_type": "code",
      "source": [
        "#everything above is sufficient to show what we doing in project, things below dont have final value only understanding value"
      ],
      "metadata": {
        "id": "B87VxN-gCZH1"
      },
      "execution_count": null,
      "outputs": []
    },
    {
      "cell_type": "code",
      "source": [],
      "metadata": {
        "id": "VLb3bvLHCZFN"
      },
      "execution_count": null,
      "outputs": []
    },
    {
      "cell_type": "code",
      "source": [],
      "metadata": {
        "id": "lwg_1l4tCZCt"
      },
      "execution_count": null,
      "outputs": []
    },
    {
      "cell_type": "code",
      "source": [],
      "metadata": {
        "id": "SyzkFun1CZAZ"
      },
      "execution_count": null,
      "outputs": []
    },
    {
      "cell_type": "code",
      "source": [],
      "metadata": {
        "id": "M0t5dJK4CY-F"
      },
      "execution_count": null,
      "outputs": []
    },
    {
      "cell_type": "code",
      "source": [
        "from google.colab import drive\n",
        "drive.mount('/content/drive')\n"
      ],
      "metadata": {
        "colab": {
          "base_uri": "https://localhost:8080/"
        },
        "id": "G32CHHaXaMSG",
        "outputId": "786933a5-5e53-4d16-9b02-531c3d939a22"
      },
      "execution_count": null,
      "outputs": [
        {
          "output_type": "stream",
          "name": "stdout",
          "text": [
            "Mounted at /content/drive\n"
          ]
        }
      ]
    },
    {
      "cell_type": "code",
      "source": [
        "!cp /content/newdata.zip /content/drive/MyDrive/\n"
      ],
      "metadata": {
        "id": "vHnQVj_3gB2h"
      },
      "execution_count": null,
      "outputs": []
    },
    {
      "cell_type": "code",
      "source": [
        "        # Apply median filter to remove salt-and-pepper noise\n",
        "median_filtered = cv2.medianBlur(image, k)  # Use a k"
      ],
      "metadata": {
        "id": "uNB8pcu7gB0H"
      },
      "execution_count": null,
      "outputs": []
    },
    {
      "cell_type": "code",
      "source": [
        "import os\n",
        "\n",
        "folder_path = \"/content/nnnewdata\"\n",
        "def create_folder(folder_path):\n",
        "    # Check if the folder already exists\n",
        "    if not os.path.exists(folder_path):\n",
        "        # Create the folder\n",
        "        os.makedirs(folder_path)\n",
        "        print(f\"Folder '{folder_path}' created successfully.\")\n",
        "    else:\n",
        "        print(f\"Folder '{folder_path}' already exists.\")\n",
        "\n",
        "# Example usage\n",
        "folder_path = './new_folder'\n",
        "create_folder(folder_path)"
      ],
      "metadata": {
        "colab": {
          "base_uri": "https://localhost:8080/"
        },
        "id": "7g5MusZj8mGu",
        "outputId": "0e174a04-7042-4abd-eaf7-a7094723e7fb"
      },
      "execution_count": null,
      "outputs": [
        {
          "output_type": "stream",
          "name": "stdout",
          "text": [
            "Folder './new_folder' created successfully.\n"
          ]
        }
      ]
    },
    {
      "cell_type": "code",
      "source": [
        "import cv2\n",
        "import numpy as np\n",
        "import matplotlib.pyplot as plt\n",
        "klist = [9]\n",
        "# Load the image\n",
        "image_path = '/content/drive/MyDrive/ipcv_project_files/pics/Dscene1.jpg'\n",
        "image = cv2.imread(image_path)\n",
        "image = cv2.cvtColor(image, cv2.COLOR_BGR2RGB)  # Convert to RGB for displaying with matplotlib\n",
        "\n",
        "# Apply Gaussian filter\n",
        "def apply_filter(image, k):\n",
        "    median_filtered = cv2.medianBlur(image, k)\n",
        "    return median_filtered\n",
        "\n",
        "for k in klist:\n",
        "# Apply Gaussian filter to the image\n",
        "  denoised_image = apply_filter(image, k)\n",
        "  cv2.imwrite('/content/new_folder/d{}.jpg'.format(k), denoised_image)\n",
        "\n",
        "\n",
        "# Display the original and denoised images\n",
        "\"\"\"plt.figure(figsize=(10, 5))\n",
        "plt.subplot(1, 2, 1)\n",
        "plt.title('Original Image')\n",
        "plt.imshow(image)\n",
        "plt.axis('off')\n",
        "\n",
        "\n",
        "plt.subplot(1, 2, 2)\n",
        "plt.title('Denoised Image (Gaussian Filter)')\n",
        "plt.imshow(denoised_image)\n",
        "plt.axis('off')\n",
        "\n",
        "plt.show()\"\"\"\n"
      ],
      "metadata": {
        "id": "TwndwLsrgBxj",
        "colab": {
          "base_uri": "https://localhost:8080/",
          "height": 53
        },
        "outputId": "ac593da4-ae42-493d-9fa3-24c694861758"
      },
      "execution_count": null,
      "outputs": [
        {
          "output_type": "execute_result",
          "data": {
            "text/plain": [
              "\"plt.figure(figsize=(10, 5))\\nplt.subplot(1, 2, 1)\\nplt.title('Original Image')\\nplt.imshow(image)\\nplt.axis('off')\\n\\n\\nplt.subplot(1, 2, 2)\\nplt.title('Denoised Image (Gaussian Filter)')\\nplt.imshow(denoised_image)\\nplt.axis('off')\\n\\nplt.show()\""
            ],
            "application/vnd.google.colaboratory.intrinsic+json": {
              "type": "string"
            }
          },
          "metadata": {},
          "execution_count": 10
        }
      ]
    },
    {
      "cell_type": "code",
      "source": [],
      "metadata": {
        "id": "p75DURZtgBvM"
      },
      "execution_count": null,
      "outputs": []
    },
    {
      "cell_type": "code",
      "source": [],
      "metadata": {
        "id": "W26jQmAVaMP1"
      },
      "execution_count": null,
      "outputs": []
    },
    {
      "cell_type": "code",
      "execution_count": null,
      "metadata": {
        "colab": {
          "base_uri": "https://localhost:8080/",
          "height": 211
        },
        "id": "MBIaZCRnn1hX",
        "outputId": "da039b34-4a46-4ed8-a039-49d811cc7c6c"
      },
      "outputs": [
        {
          "output_type": "error",
          "ename": "error",
          "evalue": "OpenCV(4.8.0) /io/opencv/modules/imgproc/src/color.cpp:182: error: (-215:Assertion failed) !_src.empty() in function 'cvtColor'\n",
          "traceback": [
            "\u001b[0;31m---------------------------------------------------------------------------\u001b[0m",
            "\u001b[0;31merror\u001b[0m                                     Traceback (most recent call last)",
            "\u001b[0;32m<ipython-input-1-109a3b91d6ea>\u001b[0m in \u001b[0;36m<cell line: 10>\u001b[0;34m()\u001b[0m\n\u001b[1;32m      8\u001b[0m \u001b[0;34m\u001b[0m\u001b[0m\n\u001b[1;32m      9\u001b[0m \u001b[0;31m# Convert the image from BGR to RGB\u001b[0m\u001b[0;34m\u001b[0m\u001b[0;34m\u001b[0m\u001b[0m\n\u001b[0;32m---> 10\u001b[0;31m \u001b[0mimage_rgb\u001b[0m \u001b[0;34m=\u001b[0m \u001b[0mcv2\u001b[0m\u001b[0;34m.\u001b[0m\u001b[0mcvtColor\u001b[0m\u001b[0;34m(\u001b[0m\u001b[0mimage\u001b[0m\u001b[0;34m,\u001b[0m \u001b[0mcv2\u001b[0m\u001b[0;34m.\u001b[0m\u001b[0mCOLOR_BGR2RGB\u001b[0m\u001b[0;34m)\u001b[0m\u001b[0;34m\u001b[0m\u001b[0;34m\u001b[0m\u001b[0m\n\u001b[0m\u001b[1;32m     11\u001b[0m \u001b[0;34m\u001b[0m\u001b[0m\n\u001b[1;32m     12\u001b[0m \u001b[0;31m# Apply median filter with different kernel sizes\u001b[0m\u001b[0;34m\u001b[0m\u001b[0;34m\u001b[0m\u001b[0m\n",
            "\u001b[0;31merror\u001b[0m: OpenCV(4.8.0) /io/opencv/modules/imgproc/src/color.cpp:182: error: (-215:Assertion failed) !_src.empty() in function 'cvtColor'\n"
          ]
        }
      ],
      "source": [
        "import cv2\n",
        "import numpy as np\n",
        "from matplotlib import pyplot as plt\n",
        "\n",
        "# Load the image\n",
        "image_path = '/content/scene1.png'\n",
        "image = cv2.imread(image_path)\n",
        "\n",
        "# Convert the image from BGR to RGB\n",
        "image_rgb = cv2.cvtColor(image, cv2.COLOR_BGR2RGB)\n",
        "\n",
        "# Apply median filter with different kernel sizes\n",
        "median_3 = cv2.medianBlur(image_rgb, 3)\n",
        "median_5 = cv2.medianBlur(image_rgb, 5)\n",
        "median_7 = cv2.medianBlur(image_rgb, 7)\n",
        "median_9 = cv2.medianBlur(image_rgb, 9)\n",
        "\n",
        "# Apply bilateral filter\n",
        "bilateral_9 = cv2.bilateralFilter(image_rgb, 9, 75, 75)\n",
        "bilateral_15 = cv2.bilateralFilter(image_rgb, 15, 75, 75)\n",
        "bilateral_25 = cv2.bilateralFilter(image_rgb, 25, 75, 75)\n",
        "\n",
        "# Plot the images\n",
        "plt.figure(figsize=(20, 20))\n",
        "\n",
        "plt.subplot(3, 3, 1)\n",
        "plt.title('Original Image')\n",
        "plt.imshow(image_rgb)\n",
        "\n",
        "plt.subplot(3, 3, 2)\n",
        "plt.title('Median Filter 3x3')\n",
        "plt.imshow(median_3)\n",
        "\n",
        "plt.subplot(3, 3, 3)\n",
        "plt.title('Median Filter 5x5')\n",
        "plt.imshow(median_5)\n",
        "\n",
        "plt.subplot(3, 3, 4)\n",
        "plt.title('Median Filter 7x7')\n",
        "plt.imshow(median_7)\n",
        "\n",
        "plt.subplot(3, 3, 5)\n",
        "plt.title('Median Filter 9x9')\n",
        "plt.imshow(median_9)\n",
        "\n",
        "plt.subplot(3, 3, 6)\n",
        "plt.title('Bilateral Filter 9')\n",
        "plt.imshow(bilateral_9)\n",
        "\n",
        "plt.subplot(3, 3, 7)\n",
        "plt.title('Bilateral Filter 15')\n",
        "plt.imshow(bilateral_15)\n",
        "\n",
        "plt.subplot(3, 3, 8)\n",
        "plt.title('Bilateral Filter 25')\n",
        "plt.imshow(bilateral_25)\n",
        "\n",
        "plt.show()\n"
      ]
    }
  ]
}